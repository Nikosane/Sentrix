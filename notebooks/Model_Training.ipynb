{
 "cells": [
  {
   "cell_type": "markdown",
   "id": "e55a7708",
   "metadata": {},
   "source": [
    "# Model Training Notebook\n",
    "This notebook covers training a machine learning model for intrusion detection."
   ]
  },
  {
   "cell_type": "code",
   "execution_count": null,
   "id": "e97804dc",
   "metadata": {},
   "outputs": [],
   "source": [
    "\n",
    "# Import necessary libraries\n",
    "import pandas as pd\n",
    "from sklearn.model_selection import train_test_split\n",
    "from sklearn.ensemble import RandomForestClassifier\n",
    "from sklearn.metrics import classification_report\n",
    "\n",
    "# Load preprocessed data\n",
    "def load_preprocessed_data(feature_path, label_path):\n",
    "    \"\"\"Load the preprocessed features and labels from files.\"\"\"\n",
    "    features = pd.read_csv(feature_path)\n",
    "    labels = pd.read_csv(label_path).values.ravel()\n",
    "    return features, labels\n",
    "\n",
    "# Split the dataset into training and testing sets\n",
    "def split_data(features, labels, test_size=0.2):\n",
    "    \"\"\"Split data into training and testing sets.\"\"\"\n",
    "    return train_test_split(features, labels, test_size=test_size, random_state=42)\n",
    "\n",
    "# Train a machine learning model\n",
    "def train_model(X_train, y_train):\n",
    "    \"\"\"Train a Random Forest model.\"\"\"\n",
    "    model = RandomForestClassifier(random_state=42)\n",
    "    model.fit(X_train, y_train)\n",
    "    return model\n",
    "\n",
    "# Evaluate the model\n",
    "def evaluate_model(model, X_test, y_test):\n",
    "    \"\"\"Evaluate the model and print a classification report.\"\"\"\n",
    "    y_pred = model.predict(X_test)\n",
    "    print(classification_report(y_test, y_pred))\n",
    "\n",
    "# Save the trained model\n",
    "def save_model(model, model_path):\n",
    "    \"\"\"Save the trained model to a file.\"\"\"\n",
    "    import joblib\n",
    "    joblib.dump(model, model_path)\n"
   ]
  },
  {
   "cell_type": "code",
   "execution_count": null,
   "id": "d864af74",
   "metadata": {},
   "outputs": [],
   "source": [
    "\n",
    "# Example usage\n",
    "feature_path = 'processed_features.csv'\n",
    "label_path = 'processed_labels.csv'\n",
    "features, labels = load_preprocessed_data(feature_path, label_path)\n",
    "X_train, X_test, y_train, y_test = split_data(features, labels)\n",
    "model = train_model(X_train, y_train)\n",
    "evaluate_model(model, X_test, y_test)\n",
    "save_model(model, 'trained_model.pkl')\n"
   ]
  }
 ],
 "metadata": {},
 "nbformat": 4,
 "nbformat_minor": 5
}
