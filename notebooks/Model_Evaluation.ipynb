{
  "metadata": {
    "kernelspec": {
      "name": "python",
      "display_name": "Python (Pyodide)",
      "language": "python"
    },
    "language_info": {
      "codemirror_mode": {
        "name": "python",
        "version": 3
      },
      "file_extension": ".py",
      "mimetype": "text/x-python",
      "name": "python",
      "nbconvert_exporter": "python",
      "pygments_lexer": "ipython3",
      "version": "3.8"
    }
  },
  "nbformat_minor": 4,
  "nbformat": 4,
  "cells": [
    {
      "cell_type": "code",
      "source": "# Import necessary libraries\nimport pandas as pd\nimport joblib\nfrom sklearn.metrics import confusion_matrix, classification_report\nimport seaborn as sns\nimport matplotlib.pyplot as plt",
      "metadata": {
        "trusted": true
      },
      "outputs": [],
      "execution_count": null
    },
    {
      "cell_type": "code",
      "source": "# Load the trained model\ndef load_model(model_path):\n    \"\"\"Load the trained model from a file.\"\"\"\n    return joblib.load(model_path)",
      "metadata": {
        "trusted": true
      },
      "outputs": [],
      "execution_count": null
    },
    {
      "cell_type": "code",
      "source": "# Load test data\ndef load_test_data(feature_path, label_path):\n    \"\"\"Load the test features and labels from files.\"\"\"\n    features = pd.read_csv(feature_path)\n    labels = pd.read_csv(label_path).values.ravel()\n    return features, labels",
      "metadata": {
        "trusted": true
      },
      "outputs": [],
      "execution_count": null
    },
    {
      "cell_type": "code",
      "source": "# Evaluate the model\ndef evaluate_model(model, X_test, y_test):\n    \"\"\"Evaluate the model and return performance metrics.\"\"\"\n    y_pred = model.predict(X_test)\n    cm = confusion_matrix(y_test, y_pred)\n    print(classification_report(y_test, y_pred))\n    return cm",
      "metadata": {
        "trusted": true
      },
      "outputs": [],
      "execution_count": null
    },
    {
      "cell_type": "code",
      "source": "# Plot confusion matrix\ndef plot_confusion_matrix(cm, labels):\n    \"\"\"Plot a confusion matrix.\"\"\"\n    plt.figure(figsize=(10, 7))\n    sns.heatmap(cm, annot=True, fmt='d', cmap='Blues', xticklabels=labels, yticklabels=labels)\n    plt.xlabel('Predicted')\n    plt.ylabel('True')\n    plt.title('Confusion Matrix')\n    plt.show()",
      "metadata": {
        "trusted": true
      },
      "outputs": [],
      "execution_count": null
    },
    {
      "cell_type": "code",
      "source": "# Example usage\nmodel_path = 'trained_model.pkl'\nfeature_path = 'processed_features_test.csv'\nlabel_path = 'processed_labels_test.csv'\n\nmodel = load_model(model_path)\nX_test, y_test = load_test_data(feature_path, label_path)\ncm = evaluate_model(model, X_test, y_test)\nplot_confusion_matrix(cm, labels=['Normal', 'Anomalous'])\n",
      "metadata": {
        "trusted": true
      },
      "outputs": [],
      "execution_count": null
    }
  ]
}